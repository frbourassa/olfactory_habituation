{
 "cells": [
  {
   "cell_type": "code",
   "execution_count": null,
   "id": "cbd356b6",
   "metadata": {},
   "outputs": [],
   "source": [
    "import numpy as np\n",
    "import scipy as sp\n",
    "from scipy import stats\n",
    "import matplotlib.pyplot as plt\n",
    "from modelfcts.backgrounds import generate_odorant\n",
    "from modelfcts.ideal import find_projector, find_parallel_component\n",
    "from utils.metrics import jaccard\n",
    "from modelfcts.tagging import create_sparse_proj_mat, project_neural_tag"
   ]
  },
  {
   "cell_type": "code",
   "execution_count": null,
   "id": "b4919c4f",
   "metadata": {},
   "outputs": [],
   "source": [
    "def ideal_inhib_samples(dimensions, nsamples, projmat, rates, conc, rng, proj_kwargs):\n",
    "    \"\"\" Dimensions: n_r, n_b, n_k\n",
    "    nsamples: n_backs, n_new\"\"\"\n",
    "    # Generate new odors\n",
    "    n_r, n_b, n_k = dimensions\n",
    "    n_backs, n_new = nsamples\n",
    "    lambda_in = 1.0 / rates\n",
    "    backgrounds = generate_odorant(n_rec=[n_backs, n_b, n_r], rgen=rng, lambda_in=lambda_in)\n",
    "    new_odors = generate_odorant(n_rec=[n_new, n_r], rgen=rng, lambda_in=lambda_in)\n",
    "    jaccard_scores = np.zeros(nsamples)\n",
    "    perp_elements = np.zeros(list(nsamples) + [n_r])\n",
    "    new_odor_tags = []\n",
    "    flag = True\n",
    "    # Find new odor tags\n",
    "    for j in range(n_new):\n",
    "        new_odor_tags.append(project_neural_tag(new_odors[j], new_odors[j], projmat, **proj_kwargs))\n",
    "    # Loop over backgrounds\n",
    "    for i in range(n_backs):\n",
    "        projector = find_projector(backgrounds[i].T)\n",
    "        for j in range(n_new):\n",
    "            x_par = find_parallel_component(new_odors[j], basis=None, projector=projector)\n",
    "            # Project new odor, project its perpendicular component\n",
    "            perp_tag = project_neural_tag(conc*(new_odors[j] - x_par), new_odors[j], projmat, **proj_kwargs) \n",
    "            jaccard_scores[i, j] = jaccard(new_odor_tags[j], perp_tag)\n",
    "            # Distribution of elements after subtracting parallel component.\n",
    "            perp_elements[i, j] = x_par\n",
    "            if np.any(x_par < 0.0) and flag:\n",
    "                flag = False\n",
    "                fig = plt.figure()\n",
    "                ax = fig.add_subplot(111, projection='3d')\n",
    "                ax.quiver(*([np.zeros(2)]*3), *(backgrounds[i, :2, :3].T), color=\"k\")\n",
    "                ax.plot(*(backgrounds[i].T), color=\"k\", marker=\"o\", ls=\"none\", ms=1)\n",
    "                ax.quiver(*([np.zeros(1)]*3), *new_odors[j, :3], color=\"r\")\n",
    "                ax.plot(*new_odors[j], color=\"r\", marker=\"o\", ms=1, ls=\"none\")\n",
    "                ax.quiver(*([np.zeros(1)]*3), *x_par[:3], color=\"xkcd:burgundy\")\n",
    "                ax.plot(*x_par, color=\"xkcd:burgundy\", marker=\"o\", ms=1, ls=\"none\")\n",
    "                plt.show()\n",
    "                plt.close()\n",
    "    return jaccard_scores, perp_elements"
   ]
  },
  {
   "cell_type": "code",
   "execution_count": null,
   "id": "ff9ea852",
   "metadata": {},
   "outputs": [],
   "source": [
    "# Initialize parameters\n",
    "main_rgen = np.random.default_rng(seed=0x45e3746c789a8fe24df70a2980a83a33)\n",
    "layer_dimensions = [25, 6, 1000]\n",
    "number_samples = [10, 60, 60]\n",
    "projection_kwargs = {}  # using defaults\n",
    "average_element = 10.0\n",
    "new_conc = 0.5"
   ]
  },
  {
   "cell_type": "code",
   "execution_count": null,
   "id": "d69a1f9e",
   "metadata": {
    "scrolled": false
   },
   "outputs": [],
   "source": [
    "# Try 100 different projection matrices\n",
    "all_jaccards = np.zeros(number_samples)\n",
    "all_proj_mats = []\n",
    "all_perp_vecs = np.zeros(list(number_samples) + [layer_dimensions[0]])\n",
    "for i in range(number_samples[0]):\n",
    "    proj_mat = create_sparse_proj_mat(layer_dimensions[2], layer_dimensions[0], main_rgen, fraction_filled=6/50)\n",
    "    all_proj_mats.append(proj_mat)\n",
    "    all_jaccards[i], all_perp_vecs[i] = ideal_inhib_samples(\n",
    "            layer_dimensions, number_samples[1:], proj_mat, \n",
    "            average_element, new_conc, main_rgen, projection_kwargs\n",
    "            )"
   ]
  },
  {
   "cell_type": "code",
   "execution_count": null,
   "id": "ff120f52",
   "metadata": {},
   "outputs": [],
   "source": [
    "plt.close()"
   ]
  },
  {
   "cell_type": "markdown",
   "id": "58c788c1",
   "metadata": {},
   "source": [
    "## Jaccard distribution"
   ]
  },
  {
   "cell_type": "code",
   "execution_count": null,
   "id": "262cdd15",
   "metadata": {},
   "outputs": [],
   "source": [
    "sp.stats.skew(all_jaccards.flatten())"
   ]
  },
  {
   "cell_type": "code",
   "execution_count": null,
   "id": "b9250943",
   "metadata": {},
   "outputs": [],
   "source": [
    "# Try to fit a gamma distribution\n",
    "# dist, data, bounds=None, *, guess=None, method='mle', optimizer=<function differential_evolution>\n",
    "# No, gamma is no good\n",
    "#fitres = sp.stats.fit(sp.stats.gamma, all_jaccards.flatten(), \n",
    "#                      bounds={\"a\":[0, 100], \"scale\":[0.0001, 100.0], \"loc\":[0, 0]})\n",
    "fitres = sp.stats.fit(sp.stats.norm, all_jaccards.flat, bounds={\"loc\":[0.0, 1.0], \"scale\":[0.05, 1.0]})\n",
    "print(fitres)"
   ]
  },
  {
   "cell_type": "raw",
   "id": "e3dfc1a0",
   "metadata": {},
   "source": [
    "# Try to fit a beta distribution: better because naturally on [0, 1]\n",
    "# Outcome: not as good as normal!\n",
    "fitres = sp.stats.fit(sp.stats.beta, all_jaccards.flat, bounds={\"a\":[0, 10], \"b\":[0, 10]})\n",
    "print(fitres)"
   ]
  },
  {
   "cell_type": "code",
   "execution_count": null,
   "id": "454e3276",
   "metadata": {
    "scrolled": false
   },
   "outputs": [],
   "source": [
    "fig, ax = plt.subplots()\n",
    "ax.hist(all_jaccards.flatten(), bins=30, density=True)\n",
    "xrange = np.arange(0.0, 1.0, 0.01)\n",
    "ax.plot(xrange, sp.stats.norm.pdf(xrange, loc=fitres.params.loc, scale=fitres.params.scale))\n",
    "#ax.plot(xrange, sp.stats.beta.pdf(xrange, a=fitres.params.a, b=fitres.params.b))\n",
    "ax.set(xlabel=r\"Jaccard($z_n, z_{n\\perp}$)\", \n",
    "      ylabel=\"Prob. density\")\n",
    "plt.show()\n",
    "plt.close()"
   ]
  },
  {
   "cell_type": "markdown",
   "id": "93831cf8",
   "metadata": {},
   "source": [
    "## Perpendicular component vectors element distribution"
   ]
  },
  {
   "cell_type": "code",
   "execution_count": null,
   "id": "5dd5006d",
   "metadata": {},
   "outputs": [],
   "source": [
    "fig, ax = plt.subplots()\n",
    "ax.hist(all_perp_vecs.flatten(), bins=200, density=False)\n",
    "#xrange = np.arange(0.0, 1.0, 0.01)\n",
    "#ax.plot(xrange, sp.stats.norm.pdf(xrange, loc=fitres.params.loc, scale=fitres.params.scale))\n",
    "#ax.plot(xrange, sp.stats.beta.pdf(xrange, a=fitres.params.a, b=fitres.params.b))\n",
    "ax.set(xlabel=r\"$\\vec{x}_{n\\perp}$ elements magnitude\", \n",
    "      ylabel=\"Prob. density\")\n",
    "plt.show()\n",
    "plt.close()"
   ]
  },
  {
   "cell_type": "markdown",
   "id": "4dc243da",
   "metadata": {},
   "source": [
    "## Intersection cardinality distribution"
   ]
  },
  {
   "cell_type": "code",
   "execution_count": null,
   "id": "3e729c0a",
   "metadata": {},
   "outputs": [],
   "source": [
    "cardinalities_int = np.round(0.1*layer_dimensions[2] * all_jaccards / (1.0 + all_jaccards)).astype(int)"
   ]
  },
  {
   "cell_type": "code",
   "execution_count": null,
   "id": "3beaa2f6",
   "metadata": {},
   "outputs": [],
   "source": [
    "#fitres2 = sp.stats.fit(sp.stats.binom, cardinalities_int.flat, \n",
    "#                       bounds={\"n\":[30, 51], \"p\":[0.05, 1.0]})\n",
    "# Negative hypergeometric would make sense. Sampling without replacement from a population\n",
    "# in which K are considered successes. Sampling until until r failures are encountered\n",
    "# The successes are the KCs belonging to the new odor tag. \n",
    "# Parameters: M, n, r\n",
    "#fitres2 = sp.stats.fit(sp.stats.nhypergeom, cardinalities_int.flat[::100], \n",
    "#                       bounds={\"M\":[50, 100], \"n\":[45, 55], \"r\":[1, 60]})\n",
    "\n",
    "# Try beta-binomial instead. Binomial where the prob of success follows beta distribution\n",
    "# Makes more sense even. \n",
    "fitres2 = sp.stats.fit(sp.stats.betabinom, cardinalities_int.flat[::100], \n",
    "                       bounds={\"n\":[40, 100], \"a\":[0, 10], \"b\":[0, 10]})\n",
    "#fitres2 = sp.stats.fit(sp.stats.nchypergeom_fisher, cardinalities_int.flat[::100], \n",
    "#                      bounds={\"M\":[45, 300], \"n\":[30, 80], \"N\":[45, 55], \"odds\":[0, 1]})"
   ]
  },
  {
   "cell_type": "code",
   "execution_count": null,
   "id": "ddec8fc8",
   "metadata": {},
   "outputs": [],
   "source": [
    "print(fitres2)"
   ]
  },
  {
   "cell_type": "code",
   "execution_count": null,
   "id": "8d238b99",
   "metadata": {},
   "outputs": [],
   "source": [
    "# Distribution of card(zn, znperp)\n",
    "#cardinalities = 0.1*layer_dimensions[2] * all_jaccards / (1.0 + all_jaccards)\n",
    "fig, ax = plt.subplots()\n",
    "ax.hist(cardinalities_int.flat, bins=51, density=True)\n",
    "xrange = np.arange(fitres2.params.n+1)\n",
    "ax.plot(xrange, sp.stats.betabinom.pmf(xrange, *fitres2.params))\n",
    "#ax.plot(xrange, sp.stats.nchypergeom_fisher.pmf(xrange, *fitres2.params))\n",
    "ax.set(xlabel=r\"card($z_n \\cap z_{n\\perp}$)\", ylabel=\"Prob. density\")\n",
    "plt.show()\n",
    "plt.close()"
   ]
  },
  {
   "cell_type": "code",
   "execution_count": null,
   "id": "9595a82f",
   "metadata": {},
   "outputs": [],
   "source": []
  }
 ],
 "metadata": {
  "kernelspec": {
   "display_name": "py311",
   "language": "python",
   "name": "py311"
  },
  "language_info": {
   "codemirror_mode": {
    "name": "ipython",
    "version": 3
   },
   "file_extension": ".py",
   "mimetype": "text/x-python",
   "name": "python",
   "nbconvert_exporter": "python",
   "pygments_lexer": "ipython3",
   "version": "3.11.3"
  }
 },
 "nbformat": 4,
 "nbformat_minor": 5
}
