{
 "cells": [
  {
   "cell_type": "code",
   "execution_count": null,
   "metadata": {},
   "outputs": [],
   "source": [
    "import numpy as np\n",
    "import matplotlib.pyplot as plt\n",
    "import scipy as sp\n",
    "from scipy import integrate\n",
    "\n",
    "from mpl_toolkits.mplot3d import Axes3D"
   ]
  },
  {
   "cell_type": "markdown",
   "metadata": {},
   "source": [
    "# IBCM with constant $\\vec{x}$\n",
    "Analytical approximation of constant $\\vec{x}$ so we can look at a two-variable system, $\\Theta$ and $M = \\sum_i m_i$"
   ]
  },
  {
   "cell_type": "code",
   "execution_count": null,
   "metadata": {},
   "outputs": [],
   "source": [
    "def deriv(t, y, params):\n",
    "    # y contains M, Theta\n",
    "    A, B = params\n",
    "    dy = np.zeros(y.shape)\n",
    "    dy[0] = A * y[0] * (y[0] - y[1])\n",
    "    dy[1] = B * (y[0]*y[0] - y[1])\n",
    "    return dy"
   ]
  },
  {
   "cell_type": "code",
   "execution_count": null,
   "metadata": {},
   "outputs": [],
   "source": [
    "def plot_stream(f, xext, yext, params, figax=None, var_names=[\"x\", \"y\"]):\n",
    "    if figax is None:\n",
    "        fig, ax = plt.subplots()\n",
    "    else:\n",
    "        fig, ax = figax\n",
    "    \n",
    "    xx, yy = np.meshgrid(np.linspace(*xext, 101), np.linspace(*yext, 101), indexing=\"xy\")\n",
    "    dd = f(0.0, np.stack([xx, yy]), params)\n",
    "\n",
    "    ax.streamplot(xx, yy, dd[0], dd[1], density=3, color='gray', linewidth=0.5)\n",
    "    ax.set(xlabel=var_names[0], ylabel=var_names[1])\n",
    "    return [fig, ax]"
   ]
  },
  {
   "cell_type": "code",
   "execution_count": null,
   "metadata": {},
   "outputs": [],
   "source": [
    "# Parameters\n",
    "learnrate = 1 / 4000\n",
    "tau_avg = 150.0\n",
    "n_orn = 4\n",
    "x0 = 1.0\n",
    "params_ab = [n_orn*learnrate*x0*x0, x0*x0/tau_avg]"
   ]
  },
  {
   "cell_type": "code",
   "execution_count": null,
   "metadata": {},
   "outputs": [],
   "source": [
    "print(params_ab)\n",
    "print((params_ab[1] - params_ab[0])**2 - 4*params_ab[0]*params_ab[1])"
   ]
  },
  {
   "cell_type": "code",
   "execution_count": null,
   "metadata": {},
   "outputs": [],
   "source": [
    "plot_limits = ((0.0, 10.0), (0.0, 10.0))\n",
    "fig, ax = plot_stream(deriv, *plot_limits, params_ab, var_names=[r\"$M$\", r\"$\\Theta$\"])\n",
    "ax.set_xlim()\n",
    "fig.tight_layout()\n",
    "xy_init = (0.2, 4.)\n",
    "xy_init2 = (0.2, 4.5)\n",
    "\n",
    "plt.show()\n",
    "plt.close()"
   ]
  },
  {
   "cell_type": "markdown",
   "metadata": {},
   "source": [
    "# Mean-field model averaged over $\\vec{x}$\n",
    "But still keeping $\\Theta$ as a separate variable\n",
    "\n",
    "Background process with independent $\\nu$, all with moments $\\sigma^2$ and $m_3$. "
   ]
  },
  {
   "cell_type": "code",
   "execution_count": null,
   "metadata": {},
   "outputs": [],
   "source": [
    "def ibcm_mean_field(t, y, params):\n",
    "    # Extract relevant variables. \n",
    "    # back_vecs contains one background vector per row\n",
    "    mu, tau, nu0, sigma2, m3, back_vecs = params\n",
    "    n_r = y.shape[0] - 1\n",
    "    m = y[:n_r]\n",
    "    theta = y[-1]\n",
    "    \n",
    "    # Compute various terms entering the equations: c_gamma, c_d, etc.\n",
    "    c_gammas = np.expand_dims(back_vecs.dot(m), 1)\n",
    "    c_d = np.sum(c_gammas, axis=0, keepdims=True)\n",
    "    x_d = np.sum(back_vecs, axis=0, keepdims=True)\n",
    "    sum_cgxg = np.sum(c_gammas * back_vecs, axis=0, keepdims=True)\n",
    "    \n",
    "    dy = np.zeros(y.shape)\n",
    "    dy[:n_r] = mu * (nu0*c_d - theta) * (c_d*nu0*x_d*nu0 + sigma2*sum_cgxg)\n",
    "    dy[:n_r] += mu * np.sum((sigma2*nu0*c_d*sum_cgxg + nu0*c_gammas*c_gammas*sigma2*x_d\n",
    "                            + m3 * c_gammas*c_gammas * back_vecs), axis=0)\n",
    "    dy[-1] = (nu0*nu0*c_d*c_d + sigma2*np.sum(c_gammas*c_gammas, axis=0) - theta) / tau\n",
    "    return dy"
   ]
  },
  {
   "cell_type": "code",
   "execution_count": null,
   "metadata": {},
   "outputs": [],
   "source": [
    "n_components = 3\n",
    "n_dimensions = 4\n",
    "\n",
    "learn_rate = 0.002\n",
    "tau_theta = 150.0\n",
    "nu_mean = 1.0 / np.sqrt(3)\n",
    "sigma2_nu = 0.09\n",
    "m3_nu = 0.0\n",
    "\n",
    "# Choose three LI vectors in (+, +, +) octant: [0.8, 0.2, 0.2], [0.2, 0.8, 0.2], etc.\n",
    "back_components = 0.2 * np.ones([n_components, n_dimensions])\n",
    "for i in range(n_components):\n",
    "    if i < n_dimensions:\n",
    "        back_components[i, i] = 0.8\n",
    "    else:  # If there are more components than there are dimensions (ORNs)\n",
    "        back_components[i, i % n_dimensions] = 0.8 - i\n",
    "    # Normalize\n",
    "    back_components[i] = back_components[i] / np.sqrt(np.sum(back_components[i]**2))\n",
    "    \n",
    "# Initial synaptic weights: small positive noise\n",
    "rgen_meta = np.random.default_rng(seed=0x8549e8fc7718e5fa3e7516addff73b86)\n",
    "init_synapses = 0.1*rgen_meta.random(size=n_dimensions)\n",
    "init_theta = 0.1\n",
    "\n",
    "y_init = np.hstack([init_synapses, init_theta])\n",
    "parameters = [learn_rate, tau_theta, nu_mean, sigma2_nu, m3_nu, back_components]"
   ]
  },
  {
   "cell_type": "code",
   "execution_count": null,
   "metadata": {},
   "outputs": [],
   "source": [
    "res = sp.integrate.solve_ivp(ibcm_mean_field, (0.0, 35000.0), y0=y_init, args=[parameters], \n",
    "                             method=\"RK45\", max_step=5.0)"
   ]
  },
  {
   "cell_type": "code",
   "execution_count": null,
   "metadata": {},
   "outputs": [],
   "source": [
    "fig, ax = plt.subplots()\n",
    "for i in range(n_dimensions):\n",
    "    ax.plot(res.t, res.y[i], label=r\"$m$ component {}\".format(i))\n",
    "ax.plot(res.t, res.y[-1], label=r\"$\\Theta$\")\n",
    "ax.set(xlabel=\"Time\", ylabel=r\"$m$ or $\\Theta$\")\n",
    "ax.legend()\n",
    "plt.show()\n",
    "plt.close()"
   ]
  },
  {
   "cell_type": "code",
   "execution_count": null,
   "metadata": {},
   "outputs": [],
   "source": [
    "# 3d plot of the trajectory to figure out the phase space\n",
    "fig = plt.figure()\n",
    "ax = fig.add_subplot(111, projection='3d')\n",
    "ax.plot(res.y[0], res.y[1], res.y[-1])\n",
    "ax.plot(res.y[0, 0], res.y[1, 0], res.y[-1, 0], marker=\"o\", label=\"Start\", color=\"r\", ls=\"none\")\n",
    "ax.plot(res.y[0, -1], res.y[1, -1], res.y[-1, -1], marker=\"o\", label=\"End\", color=\"b\", ls=\"none\")\n",
    "ax.view_init(azim=80, elev=20)\n",
    "ax.set(xlabel=r\"$m_0$\", ylabel=r\"$m_1$\", zlabel=r\"$\\Theta$\")\n",
    "ax.legend()\n",
    "plt.show()\n",
    "plt.close()"
   ]
  },
  {
   "cell_type": "markdown",
   "metadata": {},
   "source": [
    "## Linear stability analysis"
   ]
  },
  {
   "cell_type": "code",
   "execution_count": null,
   "metadata": {},
   "outputs": [],
   "source": [
    "# Compute the jacobianfor the equations with sigma^2=0, m3=0\n",
    "def jacobian_zero_sigma(y, params_sigma0):\n",
    "    \"\"\"Parameters when sigma=0 are just mu, tau, nu0, back_vecs\"\"\"\n",
    "    # Initialize variables\n",
    "    mu, tau, nu0, back_vecs = params_sigma0\n",
    "    n_orn = back_vecs.shape[1]\n",
    "    x_d = np.sum(back_vecs, axis=0)\n",
    "    c_d = y[:n_orn].dot(x_d)\n",
    "    theta = y[-1]\n",
    "    \n",
    "    jac = np.zeros([n_orn+1, n_orn+1])\n",
    "    \n",
    "    # Compute the dm_i/dm_j block\n",
    "    x_d_cov = x_d[:, None] * x_d[None, :]\n",
    "    jac[:n_orn, :n_orn] = mu*nu0*nu0*(2.0*nu0*c_d - theta)*x_d_cov\n",
    "    \n",
    "    # Compute the dTheta/dm_j row\n",
    "    jac[-1, :n_orn] = 2.0*nu0*nu0*c_d/tau*x_d\n",
    "    \n",
    "    # Compute the dm_i/dTheta column\n",
    "    jac[:n_orn, -1] = -mu*nu0*nu0*c_d*x_d\n",
    "    \n",
    "    # Compute the dTheta/dTheta term\n",
    "    jac[-1, -1] = -1.0 / tau\n",
    "    \n",
    "    return jac"
   ]
  },
  {
   "cell_type": "code",
   "execution_count": null,
   "metadata": {},
   "outputs": [],
   "source": [
    "# Evaluate it in particular at the fixed point c_d = 1/nu_0/n_orn, theta=1\n",
    "# and compute its eigenvalues\n",
    "# Any point such that c_d = 1/nu_0 works; just take all m components equal\n",
    "# meaning m = 1/sum(x_igamma) / nu0\n",
    "fixed_pt_sigma0 = np.ones(n_dimensions+1) / np.sum(back_components) / nu_mean\n",
    "fixed_pt_sigma0[-1] = 1.0\n",
    "parameters_sigma0 = [learn_rate, tau_theta, nu_mean, back_components]\n",
    "\n",
    "jacobian_fixed_pt_sigma0 = jacobian_zero_sigma(fixed_pt_sigma0, parameters_sigma0)\n",
    "print(jacobian_fixed_pt_sigma0)"
   ]
  },
  {
   "cell_type": "code",
   "execution_count": null,
   "metadata": {},
   "outputs": [],
   "source": [
    "eigvals_sigma0 = np.linalg.eigvals(jacobian_fixed_pt_sigma0)"
   ]
  },
  {
   "cell_type": "code",
   "execution_count": null,
   "metadata": {},
   "outputs": [],
   "source": [
    "fig, ax = plt.subplots()\n",
    "ax.axhline(0.0, ls=\"--\", color=\"k\")\n",
    "ax.axvline(0.0, ls=\"--\", color=\"k\")\n",
    "ax.scatter(np.real(eigvals_sigma0), np.imag(eigvals_sigma0), s=64)\n",
    "ax.set(xlabel=r\"$\\mathrm{Re}(\\lambda)$\", ylabel=r\"$\\mathrm{Im}(\\lambda)$\")\n",
    "plt.show()\n",
    "plt.close()"
   ]
  },
  {
   "cell_type": "markdown",
   "metadata": {},
   "source": [
    "We indeed find a pair of imaginary eigenvalues with negative real parts at the fixed point when $\\sigma^2=0$ and $m_3=0$: this is a stable spiral! \n",
    "\n",
    "This is due to the particular symmetry of the background vectors I chose. \n",
    "\n",
    "Now, the question: does this spiral become unstable when variance is added? How do we even still see this spiral, it's no longer a fixed point? And then how do we compute its stability? "
   ]
  },
  {
   "cell_type": "code",
   "execution_count": null,
   "metadata": {},
   "outputs": [],
   "source": []
  },
  {
   "cell_type": "code",
   "execution_count": null,
   "metadata": {},
   "outputs": [],
   "source": []
  }
 ],
 "metadata": {
  "kernelspec": {
   "display_name": "Python 3 (ipykernel)",
   "language": "python",
   "name": "python3"
  },
  "language_info": {
   "codemirror_mode": {
    "name": "ipython",
    "version": 3
   },
   "file_extension": ".py",
   "mimetype": "text/x-python",
   "name": "python",
   "nbconvert_exporter": "python",
   "pygments_lexer": "ipython3",
   "version": "3.12.7"
  }
 },
 "nbformat": 4,
 "nbformat_minor": 4
}
