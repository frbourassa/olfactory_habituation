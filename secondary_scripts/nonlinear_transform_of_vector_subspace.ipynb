{
 "cells": [
  {
   "cell_type": "markdown",
   "metadata": {},
   "source": [
    "# Question: vector space spanned by nonlinearly transformed linear combinations\n",
    "Can application of a nonlinear function, such as a tanh function, to components of a linear combination of basis vectors change the vector space spanned by those components? Or does it only restrict the possible norm of vectors without changing the subspace hyperplane?\n",
    "\n",
    "Strictly speaking, if we form the vector $\\vec{y}$ with components $y^i = \\sigma \\left(\\sum_{\\gamma} \\nu_{\\gamma} x_{\\gamma}^i \\right)$ where $\\sigma$ is the nonlinear activation function, then, is the subspace spanned by the possible values of $\\vec{y}$ of the same dimension as the subspace spanned by the $\\vec{x}$? Is it the same subspace? n other words, does aplying component-wise a nonlinear function to a linear combination of vectors change the vector space?"
   ]
  },
  {
   "cell_type": "code",
   "execution_count": null,
   "metadata": {},
   "outputs": [],
   "source": [
    "import numpy as np\n",
    "import matplotlib.pyplot as plt\n",
    "from mpl_toolkits.mplot3d import Axes3D"
   ]
  },
  {
   "cell_type": "code",
   "execution_count": null,
   "metadata": {},
   "outputs": [],
   "source": [
    "# Element-wise tanh function is the activation function we choose as a test\n",
    "def activ(x):\n",
    "    return np.tanh(10*x)\n",
    "    #return x"
   ]
  },
  {
   "cell_type": "code",
   "execution_count": null,
   "metadata": {},
   "outputs": [],
   "source": [
    "basis_vectors = np.ones([3, 2])  # indexed [dimension, vector]: each column is a vector. \n",
    "basis_vectors[[0, 1], [0, 1]] = 5.0\n",
    "basis_vectors /= np.sqrt(np.sum(basis_vectors**2, axis=0))"
   ]
  },
  {
   "cell_type": "code",
   "execution_count": null,
   "metadata": {},
   "outputs": [],
   "source": [
    "# Generate a bunch of random linear combinations\n",
    "rgen = np.random.default_rng(seed=0x64a164d63c21cb75d00b0f192ce89440)\n",
    "coeff_samples = rgen.standard_normal(size=(2, 100))\n",
    "\n",
    "mixtures_samples = basis_vectors.dot(coeff_samples)  # shape 3, 100: each column is a sample vector\n",
    "mixtures_samples_transformed = activ(mixtures_samples)"
   ]
  },
  {
   "cell_type": "code",
   "execution_count": null,
   "metadata": {},
   "outputs": [],
   "source": [
    "# Check whether the projection of the transformed mixtures into the subspace\n",
    "# leaves them invariant or not\n",
    "projector = basis_vectors.dot(np.linalg.pinv(basis_vectors))\n",
    "mixtures_samples_recovered = projector.dot(mixtures_samples_transformed)\n",
    "\n",
    "squared_differences = np.sum((mixtures_samples_recovered - mixtures_samples_transformed)**2, axis=0)\n",
    "squared_differences /= np.sqrt(np.sum(mixtures_samples_transformed**2, axis=0))\n",
    "print(squared_differences)"
   ]
  },
  {
   "cell_type": "markdown",
   "metadata": {},
   "source": [
    "# Answer: it does change the subspace\n",
    "Except for special cases like dimensions where all basis vectors are zero, the saturation, etc. changes the mixture of basis vectors into new subspaces. "
   ]
  },
  {
   "cell_type": "code",
   "execution_count": null,
   "metadata": {},
   "outputs": [],
   "source": [
    "fig = plt.figure()\n",
    "ax = fig.add_subplot(projection=\"3d\")\n",
    "ax.scatter(mixtures_samples[0], mixtures_samples[1], mixtures_samples[2])\n",
    "ax.scatter(mixtures_samples_transformed[0], mixtures_samples_transformed[1], mixtures_samples_transformed[2], color=\"r\")\n",
    "ax.scatter(mixtures_samples_recovered[0], mixtures_samples_recovered[1], mixtures_samples_recovered[2])\n",
    "plt.show()\n",
    "plt.close()"
   ]
  },
  {
   "cell_type": "code",
   "execution_count": null,
   "metadata": {},
   "outputs": [],
   "source": []
  }
 ],
 "metadata": {
  "kernelspec": {
   "display_name": "Python 3",
   "language": "python",
   "name": "python3"
  },
  "language_info": {
   "codemirror_mode": {
    "name": "ipython",
    "version": 3
   },
   "file_extension": ".py",
   "mimetype": "text/x-python",
   "name": "python",
   "nbconvert_exporter": "python",
   "pygments_lexer": "ipython3",
   "version": "3.7.6"
  }
 },
 "nbformat": 4,
 "nbformat_minor": 4
}
