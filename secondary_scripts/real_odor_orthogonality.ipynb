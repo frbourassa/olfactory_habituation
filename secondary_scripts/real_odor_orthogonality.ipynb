{
 "cells": [
  {
   "cell_type": "code",
   "execution_count": null,
   "metadata": {},
   "outputs": [],
   "source": [
    "import numpy as np\n",
    "import pandas as pd\n",
    "\n",
    "import matplotlib.pyplot as plt"
   ]
  },
  {
   "cell_type": "code",
   "execution_count": null,
   "metadata": {
    "scrolled": false
   },
   "outputs": [],
   "source": [
    "set_mean = 10\n",
    "indata = pd.read_csv('../data/hallem2006_TableS1_source.csv', index_col=0, header=0, encoding='utf-8')\n",
    "normed = indata.T - indata.T.min()\n",
    "normed = set_mean * normed/normed.mean()\n",
    "normed.drop(['spontaneous firing rate'], axis=1, inplace=True)\n",
    "normed"
   ]
  },
  {
   "cell_type": "markdown",
   "metadata": {},
   "source": [
    "# Distribution of elements\n",
    "Looks exponential, but there are correlations between odors, I'm sure, because dot products below do not, at all, follow the distribution of dot products between vectors made of iid exponential elements. "
   ]
  },
  {
   "cell_type": "code",
   "execution_count": null,
   "metadata": {},
   "outputs": [],
   "source": [
    "fig, ax = plt.subplots()\n",
    "ax.hist(normed.values.flatten(), bins=\"fd\")\n",
    "ax.set(xlabel=\"ORN activation\", ylabel=\"Count\")\n",
    "plt.show()\n",
    "plt.close()"
   ]
  },
  {
   "cell_type": "markdown",
   "metadata": {},
   "source": [
    "# Study dot products"
   ]
  },
  {
   "cell_type": "code",
   "execution_count": null,
   "metadata": {},
   "outputs": [],
   "source": [
    "unitnormed = normed / np.sqrt((normed**2).sum(axis=0))\n",
    "dot_products = unitnormed.T.dot(unitnormed)"
   ]
  },
  {
   "cell_type": "code",
   "execution_count": null,
   "metadata": {},
   "outputs": [],
   "source": [
    "dot_products_stats = dot_products.values[np.triu_indices(n=dot_products.shape[0], k=1)]"
   ]
  },
  {
   "cell_type": "code",
   "execution_count": null,
   "metadata": {},
   "outputs": [],
   "source": [
    "fig, ax = plt.subplots()\n",
    "ax.hist(dot_products_stats, bins=\"fd\")\n",
    "ax.set(xlabel=\"Dot product\", ylabel=\"Count\")\n",
    "plt.show()\n",
    "plt.close()"
   ]
  },
  {
   "cell_type": "markdown",
   "metadata": {},
   "source": [
    "# Conclusion: odors are not typically orthogonal! \n",
    "This is a big problem for the inhibition problem I have been considering, because the more orthogonal odors are, the better it works. \n",
    "\n",
    "The reason is the non-negativity of those vectors. Random non-negative vectors won't be orthogonal on average. And real odors tend to have similarity due to chemical similarities, so it's even worse here. \n",
    "\n",
    "Maybe by combining odors with Gautam's model, we can circumvent that problem, but for now, it's a serious issue. "
   ]
  },
  {
   "cell_type": "markdown",
   "metadata": {},
   "source": [
    "# Check random non-negative vectors\n",
    "Uniformly random, then exponential random. "
   ]
  },
  {
   "cell_type": "code",
   "execution_count": null,
   "metadata": {},
   "outputs": [],
   "source": [
    "rgen = np.random.default_rng(seed=0x5296381dd940500416b73afc46718ddf)"
   ]
  },
  {
   "cell_type": "code",
   "execution_count": null,
   "metadata": {},
   "outputs": [],
   "source": [
    "n_dims, n_odors = normed.shape\n",
    "random_uniform_nn_vectors = rgen.random(size=(n_dims, n_odors))\n",
    "random_uniform_nn_vectors /= np.sqrt(np.sum(random_uniform_nn_vectors**2, axis=0, keepdims=True))\n",
    "dot_products_uniform = random_uniform_nn_vectors.T.dot(random_uniform_nn_vectors)\n",
    "dot_products_uniform_stats = dot_products_uniform[np.triu_indices(n=n_odors, k=1)]"
   ]
  },
  {
   "cell_type": "code",
   "execution_count": null,
   "metadata": {},
   "outputs": [],
   "source": [
    "random_expo_nn_vectors = rgen.exponential(size=(n_dims, n_odors))\n",
    "random_expo_nn_vectors /= np.sqrt(np.sum(random_expo_nn_vectors**2, axis=0, keepdims=True))\n",
    "dot_products_expo = random_expo_nn_vectors.T.dot(random_expo_nn_vectors)\n",
    "dot_products_expo_stats = dot_products_expo[np.triu_indices(n=n_odors, k=1)]"
   ]
  },
  {
   "cell_type": "code",
   "execution_count": null,
   "metadata": {},
   "outputs": [],
   "source": [
    "# Log-normal: depends a lot on the sigma parameter. \n",
    "# Small sigma: all vectors look alike, dot products are close to 1\n",
    "# Large sigma: each vector has a few large components from the long tail, dot products are close to 0\n",
    "#random_lognorm_nn_vectors = rgen.lognormal(sigma=1.0, size=(n_dims, n_odors))\n",
    "#random_lognorm_nn_vectors /= np.sqrt(np.sum(random_lognorm_nn_vectors**2, axis=0, keepdims=True))\n",
    "#dot_products_lognorm = random_lognorm_nn_vectors.T.dot(random_lognorm_nn_vectors)\n",
    "#dot_products_lognorm_stats = dot_products_lognorm[np.triu_indices(n=n_odors, k=1)]"
   ]
  },
  {
   "cell_type": "code",
   "execution_count": null,
   "metadata": {},
   "outputs": [],
   "source": [
    "fig, ax = plt.subplots()\n",
    "ax.hist(dot_products_stats, bins=\"fd\", label=\"Data\", alpha=0.7)\n",
    "ax.hist(dot_products_uniform_stats, bins=\"fd\", label=\"Uniform\", alpha=0.7)\n",
    "ax.hist(dot_products_expo_stats, bins=\"fd\", label=\"Exponential\", alpha=0.7)\n",
    "#ax.hist(dot_products_lognorm_stats, bins=\"fd\", label=\"Log-normal\", alpha=0.7)\n",
    "ax.set(xlabel=\"Dot product\", ylabel=\"Count\")\n",
    "ax.legend()\n",
    "plt.show()\n",
    "plt.close()"
   ]
  },
  {
   "cell_type": "code",
   "execution_count": null,
   "metadata": {},
   "outputs": [],
   "source": []
  }
 ],
 "metadata": {
  "kernelspec": {
   "display_name": "Python 3",
   "language": "python",
   "name": "python3"
  },
  "language_info": {
   "codemirror_mode": {
    "name": "ipython",
    "version": 3
   },
   "file_extension": ".py",
   "mimetype": "text/x-python",
   "name": "python",
   "nbconvert_exporter": "python",
   "pygments_lexer": "ipython3",
   "version": "3.7.6"
  }
 },
 "nbformat": 4,
 "nbformat_minor": 4
}
