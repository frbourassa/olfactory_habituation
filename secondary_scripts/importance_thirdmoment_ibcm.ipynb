{
 "cells": [
  {
   "cell_type": "markdown",
   "metadata": {},
   "source": [
    "# Habituation to weakly non-Gaussian odor backgrounds\n",
    "Look at a case with three odors. Illustrate how the third moment is important for IBCM to identify odors and converge to specific fixed points. "
   ]
  },
  {
   "cell_type": "markdown",
   "metadata": {
    "tags": []
   },
   "source": [
    "## Some notes on the setting\n",
    "### Saturation function on IBCM neurons\n",
    "Since the fluctuations are still fast compared to the IBCM neurons, we do not really need saturation functions to prevent numerical divergences (while still using a large time step). Also, the model converges fast enough that we don't need the Law and Cooper, 1994 modification. \n",
    "\n",
    "### Background process\n",
    "We simulate a zero-mean Ornstein-Uhlenbeck process $\\tilde{\\nu}$, then we set the actual odor concentrations to be $\\nu = \\nu_0 + \\tilde{\\nu} + \\epsilon \\tilde{\\nu}^2$. This ensures that the odor concentrations have a third moment of order $\\epsilon$. More precisely, we find that if there are no correlations, we can treat each component $\\nu_{\\gamma}$ as a univariate case, and we then have a third moment of order $\\epsilon$, with only lower-order corrections to the second moment and order $\\epsilon$ corrections to the desired mean $\\nu_0$:\n",
    "\n",
    "$$ \\langle \\nu \\rangle = \\nu_0 + \\epsilon \\sigma^2 $$\n",
    "$$ \\langle (\\nu - \\langle \\nu \\rangle)^2 \\rangle = \\sigma^2 + 2 \\epsilon^2 \\sigma^4 $$\n",
    "$$ \\langle (\\nu - \\langle \\nu \\rangle)^3 \\rangle = 6 \\epsilon \\sigma^4 + 8 \\epsilon^3 \\sigma^6 $$\n",
    "\n",
    "For multiple odors, $\\tilde{\\nu}$ is a multivariate O-U process as defined in Gardiner's Handbook, and the term $\\epsilon \\tilde{\\nu}^2$ is computed element-wise. But in practice, we only consider independent odors, each can thus be thought of as a scalar O-U process. \n",
    "\n",
    "In this notebook, we compare the case where $\\epsilon = 0$ (Gaussian background) with the case $\\epsilon > 0$. \n"
   ]
  },
  {
   "cell_type": "markdown",
   "metadata": {},
   "source": [
    "## Imports"
   ]
  },
  {
   "cell_type": "code",
   "execution_count": null,
   "metadata": {},
   "outputs": [],
   "source": [
    "import numpy as np\n",
    "from scipy import sparse\n",
    "import matplotlib.pyplot as plt\n",
    "import matplotlib as mpl\n",
    "import seaborn as sns\n",
    "import os, sys\n",
    "if \"..\" not in sys.path:\n",
    "    sys.path.insert(1, \"..\")\n",
    "\n",
    "from modelfcts.ibcm import (\n",
    "    integrate_inhib_ibcm_network_options,\n",
    "    compute_mbars_cgammas_cbargammas,\n",
    ")\n",
    "from modelfcts.ibcm_analytics import (\n",
    "    fixedpoint_thirdmoment_exact, \n",
    "    ibcm_fixedpoint_w_thirdmoment, \n",
    ")\n",
    "from modelfcts.backgrounds import (\n",
    "    update_thirdmoment_kinputs, \n",
    "    update_ou_kinputs,\n",
    "    generate_odorant\n",
    ")\n",
    "from utils.statistics import seed_from_gen\n",
    "from utils.smoothing_function import (\n",
    "    moving_average\n",
    ")\n",
    "from simulfcts.plotting import (\n",
    "    plot_cbars_gamma_series, \n",
    "    plot_3d_series, \n",
    "    plot_background_norm_inhibition, \n",
    ")\n",
    "from simulfcts.analysis import compute_back_reduction_stats\n",
    "from utils.metrics import l2_norm"
   ]
  },
  {
   "cell_type": "markdown",
   "metadata": {
    "tags": []
   },
   "source": [
    "### Aesthetic parameters"
   ]
  },
  {
   "cell_type": "code",
   "execution_count": null,
   "metadata": {
    "tags": []
   },
   "outputs": [],
   "source": [
    "do_save_plots = False\n",
    "do_save_outputs = False\n",
    "\n",
    "#plt.style.use(['dark_background'])\n",
    "plt.rcParams[\"figure.figsize\"] = (4.5, 3.0)\n",
    "plt.rcParams[\"axes.facecolor\"] = (1,1,1,0)  # transparent background"
   ]
  },
  {
   "cell_type": "markdown",
   "metadata": {},
   "source": [
    "# Simulation for Gaussian background\n",
    "\n",
    "### Analytical fixed point prediction for IBCM model \n",
    "**Consider the case of gaussian $\\nu_{\\alpha}$ and $\\rho=0$**\n",
    "\n",
    "Calculations predicting a $K-2$ dimensional ensemble of fixed points in the subspace spanned by the $K$ background components. If $D > K$, the $D-K$ dimensions not spanned by the odor components have no dynamics happening in them,  since $\\frac{d\\vec{m}}{dt} \\propto \\vec{x}(t)$; initial conditions remain unchanged in that space. So, in the full $D$-dimensional space, the fixed points occupy a structure of $D-2$ dimensions, but only $K-2$ of them are not trivial. \n",
    "The two constraints satisfied at the fixed points are, in the $\\rho = 0$ case, which is just a linear transformation away from the more general case (by diagonalization of the covariance matrix):\n",
    "$$ \\sum_{\\alpha} \\bar{c}_{\\alpha} = 1 $$\n",
    "$$ \\sum_{\\alpha} \\bar{c}_{\\alpha}^2 = \\frac{1}{\\sigma^2} $$\n",
    "where\n",
    "$$ \\bar{c}_{i, \\alpha} = \\vec{m}_{i} \\cdot \\vec{x}_{\\alpha} - \\eta \\sum_{j \\neq i} \\vec{m}_j \\cdot \\vec{x}_{\\alpha} $$\n",
    "\n",
    "Note that the case $\\rho \\neq 0$ would be qualitatively the same as $\\rho = 0$: we could always rewrite the input mixture as a linear combination in the basis of the eigenvectors of the correlation matrix, where there are no correlations between components. Hence, posing $\\rho = 0$ to simplify calculations does not reduce the generality of the result. \n",
    "\n",
    "In the $\\rho \\neq 0$, one can derive the fixed point by transforming to normal coordinates, applying those two constraints on the new odor components, and transforming back. I did not take the time to do it explicity. Here, for comparison with the calculation, I set $\\rho = 0$ and compare to analytical predictions. "
   ]
  },
  {
   "cell_type": "code",
   "execution_count": null,
   "metadata": {},
   "outputs": [],
   "source": [
    "# Initialize common simulation parameters\n",
    "n_dimensions = 25  # Half the real number for faster simulations\n",
    "n_components = 3  # Number of background odors\n",
    "\n",
    "inhib_rates = [0.00025, 0.00005]  # alpha, beta\n",
    "\n",
    "# Simulation duration\n",
    "duration = 240000.0\n",
    "deltat = 1.0\n",
    "skp = 10\n",
    "\n",
    "# Common model options\n",
    "activ_function = \"identity\"  #\"ReLU\"\n",
    "\n",
    "# Background process\n",
    "update_fct = update_ou_kinputs\n",
    "\n",
    "# Choose randomly generated background vectors\n",
    "rgen_meta = np.random.default_rng(seed=0x2e6e8080973281c2c9d1ca57e5b90996)\n",
    "back_type = \"symmetric\"  # \"random\"\n",
    "if back_type == \"random\":\n",
    "    back_components = np.zeros([n_components, n_dimensions])\n",
    "    for i in range(n_components):\n",
    "        back_components[i] = generate_odorant(n_dimensions, rgen_meta, lambda_in=0.1)\n",
    "    back_components = back_components / l2_norm(back_components).reshape(-1, 1)\n",
    "\n",
    "# Choose three LI vectors in (+, +, +) octant\n",
    "elif back_type == \"symmetric\":\n",
    "    back_components = 0.1*np.ones([n_components, n_dimensions])\n",
    "    for i in range(n_components):\n",
    "        if i < n_dimensions:\n",
    "            back_components[i, i] = 0.8\n",
    "        else:\n",
    "            back_components[i, i % n_dimensions] = 0.8 - i\n",
    "        # Normalize\n",
    "        back_components[i] = back_components[i] / np.sqrt(np.sum(back_components[i]**2))\n",
    "else:\n",
    "    raise ValueError('back_type should be either \"symmetric\" or \"random\"')\n",
    "\n",
    "\n",
    "# Seed for background simulation, to make sure all models are the same\n",
    "simul_seed = seed_from_gen(rgen_meta)\n",
    "\n",
    "# Initial background vector and initial nu values\n",
    "averages_nu = np.ones(n_components) / np.sqrt(n_components)\n",
    "init_nu = np.zeros(n_components)\n",
    "init_bkvec = averages_nu.dot(back_components)\n",
    "\n",
    "## Compute the matrices in the Ornstein-Uhlenbeck update equation\n",
    "# Update matrix for the mean term: \n",
    "# Exponential decay with time scale tau_nu over time deltat\n",
    "tau_nu = 2.0  # Fluctuation time scale of the background nu_gammas (same for all)\n",
    "update_mat_A = np.identity(n_components)*np.exp(-deltat/tau_nu)\n",
    "\n",
    "# Steady-state covariance matrix\n",
    "sigma2 = 0.09\n",
    "correl_rho = 0.0\n",
    "steady_covmat = correl_rho * sigma2 * np.ones([n_components, n_components])  # Off-diagonals: rho\n",
    "steady_covmat[np.eye(n_components, dtype=bool)] = sigma2  # diagonal: ones\n",
    "\n",
    "# Cholesky decomposition of steady_covmat gives sqrt(tau/2) B\n",
    "# Update matrix for the noise term: \\sqrt(tau/2(1 - exp(-2*deltat/tau))) B\n",
    "psi_mat = np.linalg.cholesky(steady_covmat)\n",
    "update_mat_B = np.sqrt(1.0 - np.exp(-2.0*deltat/tau_nu)) * psi_mat\n",
    "\n",
    "back_params = [update_mat_A, update_mat_B, back_components, averages_nu]\n",
    "# nus are first in the list of initial background params\n",
    "init_back_list = [init_nu, init_bkvec]"
   ]
  },
  {
   "cell_type": "markdown",
   "metadata": {},
   "source": [
    "### IBCM habituation simulation for Gaussian background"
   ]
  },
  {
   "cell_type": "code",
   "execution_count": null,
   "metadata": {},
   "outputs": [],
   "source": [
    "# IBCM model parameters\n",
    "n_i_ibcm = 32  # Number of inhibitory neurons for IBCM case\n",
    "\n",
    "# Model rates\n",
    "learnrate_ibcm = 0.0025  # 0.000001 = 1e-6\n",
    "tau_avg_ibcm = 150\n",
    "coupling_eta_ibcm = 0.5/n_i_ibcm\n",
    "decay_relative_ibcm = 0.0  # dummy\n",
    "k_c2bar_avg = 1.0  # dummy\n",
    "ssat_ibcm = 100.0 # dummy\n",
    "lambd_ibcm = 1.0\n",
    "ibcm_rates = [\n",
    "    learnrate_ibcm, \n",
    "    tau_avg_ibcm, \n",
    "    coupling_eta_ibcm, \n",
    "    lambd_ibcm,\n",
    "    ssat_ibcm, \n",
    "    k_c2bar_avg,\n",
    "    decay_relative_ibcm\n",
    "]\n",
    "ibcm_options = {\n",
    "    \"activ_fct\": activ_function, \n",
    "    \"saturation\": \"linear\", \n",
    "    \"variant\": \"intrator\", \n",
    "    \"decay\": False\n",
    "}\n",
    "\n",
    "# Initial synaptic weights: small positive noise\n",
    "init_synapses_ibcm = 0.2*rgen_meta.standard_normal(size=[n_i_ibcm, n_dimensions])"
   ]
  },
  {
   "cell_type": "code",
   "execution_count": null,
   "metadata": {},
   "outputs": [],
   "source": [
    "# Run the IBCM simulations\n",
    "sim_results = integrate_inhib_ibcm_network_options(\n",
    "                init_synapses_ibcm, update_fct, init_back_list, \n",
    "                ibcm_rates, inhib_rates, back_params, duration, \n",
    "                deltat, seed=simul_seed, noisetype=\"normal\",  \n",
    "                skp=skp, **ibcm_options\n",
    ")\n",
    "\n",
    "(tser_ibcm, \n",
    " nuser_ibcm, \n",
    " bkvecser_ibcm, \n",
    " mser_ibcm, \n",
    " cbarser_ibcm, \n",
    " thetaser_ibcm,\n",
    " wser_ibcm, \n",
    " yser_ibcm) = sim_results"
   ]
  },
  {
   "cell_type": "markdown",
   "metadata": {},
   "source": [
    "### 3D plot for Gaussian inputs\n",
    "We just want to illustrate $M$ trajectories here, but do make a few check plots below as well. "
   ]
  },
  {
   "cell_type": "code",
   "execution_count": null,
   "metadata": {},
   "outputs": [],
   "source": [
    "# Calculate cgammas_bar and mbars\n",
    "# Dot products \\bar{c}_{\\gamma} = \\bar{\\vec{m}} \\cdot \\vec{x}_{\\gamma}\n",
    "mbarser_ibcm, c_gammas, cbars_gamma = compute_mbars_cgammas_cbargammas(\n",
    "                                    mser_ibcm, coupling_eta_ibcm, back_components)"
   ]
  },
  {
   "cell_type": "code",
   "execution_count": null,
   "metadata": {},
   "outputs": [],
   "source": [
    "fig, ax = plot_3d_series(mbarser_ibcm, dim_idx=[0, 1, 2], transient=1000, skp=100)\n",
    "\n",
    "# Annotate with vectors representing the odor components\n",
    "orig = np.zeros([n_components, n_components])\n",
    "xlim, ylim, zlim = ax.get_xlim(), ax.get_ylim(), ax.get_zlim()\n",
    "scale = 3\n",
    "vecs = back_components.copy()\n",
    "for i in range(n_components):\n",
    "    vecs[i] = back_components[i] / np.sqrt(np.sum(back_components[i]**2)) * scale\n",
    "ax.quiver(*orig, *(vecs[:, :3].T), color=\"k\", lw=2.0)\n",
    "ax.view_init(azim=45, elev=30)\n",
    "ax.set(xlabel=r\"$\\overline{m}_1$\", ylabel=r\"$\\overline{m}_2$\", zlabel=r\"$\\overline{m}_3$\")\n",
    "if do_save_plots:\n",
    "    fig.savefig(os.path.join(\"..\", \"figures\", \n",
    "        \"three_odors\", \"mbar_dynamics_ibcm_3odors_gaussian.pdf\"), transparent=True)\n",
    "plt.show()\n",
    "plt.close()"
   ]
  },
  {
   "cell_type": "code",
   "execution_count": null,
   "metadata": {},
   "outputs": [],
   "source": [
    "# Calculate cgammas_bar and mbars\n",
    "transient = 100000 // skp\n",
    "# Dot products \\bar{c}_{\\gamma} = \\bar{\\vec{m}} \\cdot \\vec{x}_{\\gamma}\n",
    "mbarser, c_gammas, cbars_gamma = compute_mbars_cgammas_cbargammas(\n",
    "                                    mser_ibcm, coupling_eta_ibcm, back_components)\n",
    "sums_cbars_gamma = np.sum(cbars_gamma, axis=2)\n",
    "sums_cbars_gamma2 = np.sum(cbars_gamma*cbars_gamma, axis=2)\n",
    "\n",
    "# Analytical prediction, exact: need moments of nu. \n",
    "variance_nu2 = sigma2\n",
    "mean_nu2 = averages_nu[0]\n",
    "\n",
    "# Compare to numerical values.\n",
    "fullnuser2 = averages_nu.reshape(1, -1) + nuser_ibcm\n",
    "mean_nu2_sim = np.mean(fullnuser2)  # all odors i.i.d., can average over them. \n",
    "variance_nu2_sim = np.mean((fullnuser2 - mean_nu2_sim)**2)\n",
    "thirdmoment2_sim = np.mean((fullnuser2 - mean_nu2_sim)**3)\n",
    "moments_conc2 = [mean_nu2, variance_nu2, 0.0]\n",
    "\n",
    "# Predict the saddle point where all h_gammas are equal, I suspect the model goes there first. \n",
    "saddle_h = fixedpoint_thirdmoment_exact(moments_conc2, n_components, 0, lambd=lambd_ibcm)[0]\n",
    "print(saddle_h)\n",
    "\n",
    "specif_gammas = np.argmax(np.mean(cbars_gamma[transient:], axis=0), axis=1)\n",
    "print(specif_gammas)"
   ]
  },
  {
   "cell_type": "code",
   "execution_count": null,
   "metadata": {},
   "outputs": [],
   "source": [
    "# Plot the cbar2_avg term throughout\n",
    "cbar2_avg_ser = moving_average(cbarser_ibcm*cbarser_ibcm, kernelsize=tau_avg_ibcm)\n",
    "neurons_cmap = sns.color_palette(\"Greys\", n_colors=n_i_ibcm)\n",
    "fig, ax = plt.subplots()\n",
    "for i in range(n_i_ibcm):\n",
    "    ax.plot(tser_ibcm[:-tau_avg_ibcm], cbar2_avg_ser[:-tau_avg_ibcm, i], \n",
    "            color=neurons_cmap[i])\n",
    "ax.set(xlabel=\"Time (x1000)\", ylabel=r\"$\\bar{c}^2$ moving average\")\n",
    "plt.show()\n",
    "plt.close()"
   ]
  },
  {
   "cell_type": "code",
   "execution_count": null,
   "metadata": {},
   "outputs": [],
   "source": [
    "fig , ax, _ = plot_cbars_gamma_series(tser_ibcm, cbars_gamma, \n",
    "                        skp=10, transient=80000 // skp)\n",
    "# Compare to exact analytical fixed point solution\n",
    "ax.axhline(saddle_h, ls=\":\", color=\"grey\", \n",
    "           label=\"Saddle point\")\n",
    "plt.show()\n",
    "plt.close()"
   ]
  },
  {
   "cell_type": "code",
   "execution_count": null,
   "metadata": {},
   "outputs": [],
   "source": [
    "# Correlation between nu's and c's, see if some neurons are specific to odors\n",
    "# Each neuron turns out to correlate its response to  one concentration\n",
    "# that means it is specific to that odor. \n",
    "cbarser_norm_centered = cbarser_ibcm - np.mean(cbarser_ibcm[transient:], axis=0)\n",
    "conc_ser_centered = fullnuser2 - mean_nu2\n",
    "correl_c_nu = np.mean(cbarser_norm_centered[transient:, :, None] \n",
    "                      * conc_ser_centered[transient:, None, :], axis=0)\n",
    "\n",
    "fig, ax = plt.subplots()\n",
    "img = ax.imshow(correl_c_nu.T)\n",
    "ax.set(ylabel=r\"Component $\\gamma$\", xlabel=r\"Neuron $i$\")\n",
    "fig.colorbar(img, label=r\"$\\langle (\\bar{c}^i - \\langle \\bar{c}^i \\rangle)\"\n",
    "             r\"(\\nu_{\\gamma} - \\langle \\nu_{\\gamma} \\rangle) \\rangle$\", \n",
    "            location=\"top\")\n",
    "plt.show()\n",
    "plt.close()"
   ]
  },
  {
   "cell_type": "markdown",
   "metadata": {},
   "source": [
    "#### Habituation\n",
    "The IBCM network still performs habituation despite not having odors to become specific to: similar to BioPCA in this case. "
   ]
  },
  {
   "cell_type": "code",
   "execution_count": null,
   "metadata": {},
   "outputs": [],
   "source": [
    "fig, ax, bknorm_ser, ynorm_ser = plot_background_norm_inhibition(\n",
    "                                tser_ibcm, bkvecser_ibcm, yser_ibcm, skp=1)\n",
    "\n",
    "# Compute noise reduction factor, annotate\n",
    "transient = 100000 // skp\n",
    "norm_stats = compute_back_reduction_stats(bknorm_ser, ynorm_ser, trans=transient)\n",
    "\n",
    "print(\"Mean activity norm reduced to \"\n",
    "      + \"{:.1f} % of input\".format(norm_stats['avg_reduction'] * 100))\n",
    "print(\"Standard deviation of activity norm reduced to \"\n",
    "      + \"{:.1f} % of input\".format(norm_stats['std_reduction'] * 100))\n",
    "ax.annotate(\"St. dev. reduced to {:.1f} %\".format(norm_stats['std_reduction'] * 100), \n",
    "           xy=(0.98, 0.98), xycoords=\"axes fraction\", ha=\"right\", va=\"top\")\n",
    "\n",
    "ax.legend(loc=\"center right\", bbox_to_anchor=(1.0, 0.8))\n",
    "fig.tight_layout()\n",
    "plt.show()\n",
    "plt.close()"
   ]
  },
  {
   "cell_type": "markdown",
   "metadata": {},
   "source": [
    "# Simulation for non-Gaussian background\n",
    "Use the same parameters and background odors as before, but now introduce a third moment with $\\epsilon > 0$. "
   ]
  },
  {
   "cell_type": "code",
   "execution_count": null,
   "metadata": {},
   "outputs": [],
   "source": [
    "update_fct = update_thirdmoment_kinputs\n",
    "epsilon_nu = 0.2\n",
    "back_params3 = back_params + [epsilon_nu]"
   ]
  },
  {
   "cell_type": "code",
   "execution_count": null,
   "metadata": {},
   "outputs": [],
   "source": [
    "# Run the IBCM simulations\n",
    "sim_results = integrate_inhib_ibcm_network_options(\n",
    "                init_synapses_ibcm, update_fct, init_back_list, \n",
    "                ibcm_rates, inhib_rates, back_params3, duration, \n",
    "                deltat, seed=simul_seed, noisetype=\"normal\",  \n",
    "                skp=skp, **ibcm_options\n",
    ")\n",
    "\n",
    "(tser_ibcm3, \n",
    " nuser_ibcm3, \n",
    " bkvecser_ibcm3, \n",
    " mser_ibcm3, \n",
    " cbarser_ibcm3, \n",
    " thetaser_ibcm3,\n",
    " wser_ibcm3, \n",
    " yser_ibcm3) = sim_results"
   ]
  },
  {
   "cell_type": "code",
   "execution_count": null,
   "metadata": {},
   "outputs": [],
   "source": [
    "# Calculate cgammas_bar and mbars\n",
    "# Dot products \\bar{c}_{\\gamma} = \\bar{\\vec{m}} \\cdot \\vec{x}_{\\gamma}\n",
    "mbarser3, c_gammas3, cbars_gamma3 = compute_mbars_cgammas_cbargammas(\n",
    "                                    mser_ibcm3, coupling_eta_ibcm, back_components)\n",
    "sums_cbars_gamma3 = np.sum(cbars_gamma3, axis=2)\n",
    "sums_cbars_gamma23 = np.sum(cbars_gamma3*cbars_gamma3, axis=2)\n",
    "\n",
    "# Analytical prediction, exact: need moments of nu. \n",
    "variance_nu3 = sigma2 + 2*(epsilon_nu*sigma2)**2\n",
    "mean_nu3 = averages_nu[0] + epsilon_nu*sigma2\n",
    "thirdmoment = 6*epsilon_nu*sigma2**2 + 8*(epsilon_nu*sigma2)**3\n",
    "\n",
    "# Compare to numerical values.\n",
    "fullnuser3 = averages_nu.reshape(1, -1) + nuser_ibcm3 + epsilon_nu*nuser_ibcm3**2\n",
    "mean_nu3_sim = np.mean(fullnuser3)  # all odors i.i.d., can average over them. \n",
    "variance_nu3_sim = np.mean((fullnuser3 - mean_nu3_sim)**2)\n",
    "thirdmoment_sim = np.mean((fullnuser3 - mean_nu3_sim)**3)\n",
    "moments_conc3 = [mean_nu3, variance_nu3, thirdmoment]\n",
    "\n",
    "# Analytical prediction\n",
    "hs_hn = fixedpoint_thirdmoment_exact(moments_conc3, 1, n_components-1, lambd=lambd_ibcm)\n",
    "hs_hn = hs_hn[:2]\n",
    "h_specif, h_nonspecif = hs_hn\n",
    "\n",
    "# Also check the saddle point where all h_gammas are equal, I suspect the model goes there first. \n",
    "saddle_h3 = fixedpoint_thirdmoment_exact(moments_conc3, n_components, 0, lambd=lambd_ibcm)[0]\n",
    "print(saddle_h3)\n",
    "\n",
    "# Count how many dot products are at each possible value. Use cbar = 1.0 as a split. \n",
    "split_val = 1.0\n",
    "cbars_gamma_mean3 = np.mean(cbars_gamma3[transient:], axis=0)\n",
    "cgammas_bar_counts3 = {\"above\": int(np.sum(cbars_gamma_mean3.flatten() > split_val)), \n",
    "                      \"below\": int(np.sum(cbars_gamma_mean3.flatten() <= split_val))}\n",
    "print(cgammas_bar_counts3)\n",
    "\n",
    "specif_gammas3 = np.argmax(np.mean(cbars_gamma3[transient:], axis=0), axis=1)\n",
    "print(specif_gammas3)\n",
    "\n",
    "# Analytical W\n",
    "analytical_w = ibcm_fixedpoint_w_thirdmoment(inhib_rates, moments_conc3, back_components, hs_hn, specif_gammas3)"
   ]
  },
  {
   "cell_type": "code",
   "execution_count": null,
   "metadata": {},
   "outputs": [],
   "source": [
    "fig, ax = plot_3d_series(mbarser3, dim_idx=[0, 1, 2], transient=1000, skp=100)\n",
    "\n",
    "# Annotate with vectors representing the odor components\n",
    "orig = np.zeros([n_components, n_components])\n",
    "xlim, ylim, zlim = ax.get_xlim(), ax.get_ylim(), ax.get_zlim()\n",
    "scale = 3\n",
    "vecs = back_components.copy()\n",
    "for i in range(n_components):\n",
    "    vecs[i] = back_components[i] / np.sqrt(np.sum(back_components[i]**2)) * scale\n",
    "ax.quiver(*orig, *(vecs[:, :3].T), color=\"k\", lw=2.0)\n",
    "ax.view_init(azim=45, elev=30)\n",
    "ax.set(xlabel=r\"$\\overline{m}_1$\", ylabel=r\"$\\overline{m}_2$\", zlabel=r\"$\\overline{m}_3$\")\n",
    "if do_save_plots:\n",
    "    fig.savefig(os.path.join(\"..\", \"figures\", \"three_odors\", \n",
    "        \"mbar_dynamics_ibcm_3odors_non-gaussian.pdf\"), transparent=True)\n",
    "plt.show()\n",
    "plt.close()"
   ]
  },
  {
   "cell_type": "code",
   "execution_count": null,
   "metadata": {},
   "outputs": [],
   "source": [
    "fig , ax, _ = plot_cbars_gamma_series(tser_ibcm3, cbars_gamma3, \n",
    "                        skp=10, transient=80000 // skp)\n",
    "# Compare to exact analytical fixed point solution\n",
    "ax.axhline(h_specif, ls=\"--\", color=\"grey\", \n",
    "           label=r\"Analytical $\\bar{c}_{\\gamma=\\mathrm{specific}}$\")\n",
    "ax.axhline(h_nonspecif, ls=\"-\", color=\"k\", \n",
    "           label=r\"Analytical $\\bar{c}_{\\gamma=\\mathrm{non}}$\")\n",
    "ax.axhline(saddle_h3, ls=\":\", color=\"grey\", \n",
    "           label=\"Saddle point\")\n",
    "plt.show()\n",
    "plt.close()"
   ]
  },
  {
   "cell_type": "code",
   "execution_count": null,
   "metadata": {},
   "outputs": [],
   "source": [
    "fig, ax, bknorm_ser, ynorm_ser = plot_background_norm_inhibition(\n",
    "                                tser_ibcm3, bkvecser_ibcm3, yser_ibcm3, skp=1)\n",
    "\n",
    "# Compute noise reduction factor, annotate\n",
    "transient = 100000 // skp\n",
    "norm_stats = compute_back_reduction_stats(bknorm_ser, ynorm_ser, trans=transient)\n",
    "\n",
    "print(\"Mean activity norm reduced to \"\n",
    "      + \"{:.1f} % of input\".format(norm_stats['avg_reduction'] * 100))\n",
    "print(\"Standard deviation of activity norm reduced to \"\n",
    "      + \"{:.1f} % of input\".format(norm_stats['std_reduction'] * 100))\n",
    "ax.annotate(\"St. dev. reduced to {:.1f} %\".format(norm_stats['std_reduction'] * 100), \n",
    "           xy=(0.98, 0.98), xycoords=\"axes fraction\", ha=\"right\", va=\"top\")\n",
    "\n",
    "ax.legend(loc=\"center right\", bbox_to_anchor=(1.0, 0.8))\n",
    "fig.tight_layout()\n",
    "plt.show()\n",
    "plt.close()"
   ]
  },
  {
   "cell_type": "markdown",
   "metadata": {},
   "source": [
    "# Save outputs for final plotting"
   ]
  },
  {
   "cell_type": "code",
   "execution_count": null,
   "metadata": {},
   "outputs": [],
   "source": [
    "fname = os.path.join(\"..\", \"results\", \"for_plots\", \n",
    "                     \"importance_thirdmoment_examples.npz\")\n",
    "save_skp = 10\n",
    "if do_save_outputs:\n",
    "    np.savez_compressed(\n",
    "        fname, \n",
    "        hgammaser2=cbars_gamma[::save_skp], \n",
    "        hgammaser3=cbars_gamma3[::save_skp], \n",
    "        # Save only a few points and only the first \n",
    "        # three dimensions that we will plot\n",
    "        mbarser2=mbarser_ibcm[::save_skp*10, :, :3], \n",
    "        mbarser3=mbarser3[::save_skp*10, :, :3], \n",
    "        back_components=back_components, \n",
    "        tser=tser_ibcm3[::save_skp], \n",
    "        h2=np.asarray([saddle_h]), \n",
    "        h3=np.asarray([h_specif, h_nonspecif, saddle_h3]), \n",
    "        moments2=np.asarray(moments_conc2), \n",
    "        moments3=np.asarray(moments_conc3)\n",
    "    )"
   ]
  },
  {
   "cell_type": "code",
   "execution_count": null,
   "metadata": {},
   "outputs": [],
   "source": []
  }
 ],
 "metadata": {
  "kernelspec": {
   "display_name": "Python 3 (ipykernel)",
   "language": "python",
   "name": "python3"
  },
  "language_info": {
   "codemirror_mode": {
    "name": "ipython",
    "version": 3
   },
   "file_extension": ".py",
   "mimetype": "text/x-python",
   "name": "python",
   "nbconvert_exporter": "python",
   "pygments_lexer": "ipython3",
   "version": "3.12.7"
  }
 },
 "nbformat": 4,
 "nbformat_minor": 4
}
